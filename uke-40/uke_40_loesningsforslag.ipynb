{
 "cells": [
  {
   "cell_type": "markdown",
   "metadata": {},
   "source": [
    "# Uke 40 - Variabler og variabelnavn\n",
    "\n",
    "Oppgavene er tatt fra læreboka _Fundamentals of Python_ av _Richard L. Halterman_.\n",
    "\n",
    "(Dette er samme oppgave som uke 39 - vi tar en litt myk start, så du får litt bedre tid på denne oppgaven)."
   ]
  },
  {
   "cell_type": "markdown",
   "metadata": {},
   "source": [
    "## Variabler\n",
    "\n",
    "Skriv inn disse linjene med kode i hver sin kode-celle nedenfor, og se hva resultatet blir når du \"kjører\" den (Shift + Enter)\n",
    "\n",
    "```python\n",
    "x = 6\n",
    "print(6)\n",
    "print(\"6\")\n",
    "```"
   ]
  },
  {
   "cell_type": "code",
   "execution_count": 1,
   "metadata": {},
   "outputs": [],
   "source": [
    "X = 6"
   ]
  },
  {
   "cell_type": "code",
   "execution_count": 2,
   "metadata": {
    "scrolled": true
   },
   "outputs": [
    {
     "name": "stdout",
     "output_type": "stream",
     "text": [
      "6\n"
     ]
    }
   ],
   "source": [
    "print(6)"
   ]
  },
  {
   "cell_type": "code",
   "execution_count": 3,
   "metadata": {},
   "outputs": [
    {
     "name": "stdout",
     "output_type": "stream",
     "text": [
      "6\n"
     ]
    }
   ],
   "source": [
    "print(\"6\")"
   ]
  },
  {
   "cell_type": "markdown",
   "metadata": {},
   "source": [
    "Gjenta oppgaven ovenfor med disse linjene - og tenk over - hva er forskjellen på disse to oppgavene?\n",
    "\n",
    "```python\n",
    "x = 7\n",
    "print(x)\n",
    "print(\"x\")\n",
    "```"
   ]
  },
  {
   "cell_type": "code",
   "execution_count": 6,
   "metadata": {},
   "outputs": [],
   "source": [
    "x = 7"
   ]
  },
  {
   "cell_type": "code",
   "execution_count": 7,
   "metadata": {},
   "outputs": [
    {
     "name": "stdout",
     "output_type": "stream",
     "text": [
      "7\n"
     ]
    }
   ],
   "source": [
    "print(x)"
   ]
  },
  {
   "cell_type": "code",
   "execution_count": 8,
   "metadata": {},
   "outputs": [
    {
     "name": "stdout",
     "output_type": "stream",
     "text": [
      "x\n"
     ]
    }
   ],
   "source": [
    "print(\"x\")"
   ]
  },
  {
   "cell_type": "markdown",
   "metadata": {},
   "source": [
    "## Løsning på variabler-oppgaven\n",
    "\n",
    "I den tre først cellen er x brukt som variabel, og gir navn til verdien 6. Vi kan også si at 6 er tilordnet variabelen 6.\n",
    "I andre celle skrives verdien 6 ut, men dette er helt løsrevet fra variabelen x. Vi har altså ikke benyttet oss av variabelen x.\n",
    "I tredje celle skrives tallet 6 ut. 6 står i anførselstegn, og skrives ut som en tekststreng. Hvorvidt 6 står med eller uten anførselstegn har ikke noe å si her. print-funksjonen klarer å skrive ut både tallverdier (datatypene int og float) og tekststrenger (datatypen str, eller string som vi som regel sier).\n",
    "\n",
    "I de to neste cellene gis variabelen x en ny verdi, 7, og skrives ut ved hjelp av variabelen x.\n",
    "Siste celle: print(\"x\") med x i anførselstegn vil ikke skrive ut verdien for variabelen x, men bare teksten \"x\". Dette er fordi x står i anførselstegn. Hvis vi ønsker å skrive ut variabler, så må variabelnavnene skrives ut uten anførselstegn."
   ]
  },
  {
   "cell_type": "raw",
   "metadata": {},
   "source": [
    "## Variabelnavn\n",
    "\n",
    "Se i læreboka, kapittel 2,  og finn ut hva som er lovlige navn på variabler. Hvilke av navnene a-u nedenfor er lovlige? Ved å dobbelklikke i teksten her kommer du i skrivemodus og kan skrive \"lovlig\" eller \"ulovlig\" på hver linje - og gjerne også hvorfor det eventuelt er ulovlig. \n",
    "\n",
    "- (a) fred           - lovlig\n",
    "- (b) if             - ulovlig - reservert ord\n",
    "- (c) 2x             - ulovlig - kan ikke begynne med tall\n",
    "- (d) -4             - ulovlig - kan bare begynne med bokstav eller _\n",
    "- (e) sum_total      - lovlig\n",
    "- (f) sumTotal       - lovlig\n",
    "- (g) sum-total      - ulovlig - inneholder en operator: her står det sum minus total\n",
    "- (h) sum total      - ulovlig - dette er to variabler som kan brukes hver for seg. Mellomrom kan ikke inngå som del av variabelnavn.\n",
    "- (i) sumtotal       - lovlig\n",
    "- (j) While          - lovlig  - while finnes som et reservert ord med liten forbokstav - det anbefales likevel ikke - det skaper lett forvirring\n",
    "- (k) x2             - lovlig\n",
    "- (l) Private        - lovlig - anbefales ikke, private er erservert ord i andre språk\n",
    "- (m) public         - lovlig - i Python, men ikke i alle andre språk\n",
    "- (n) $16            - ulovlig - dollartegn er ulovlig som første tegn\n",
    "- (o) xTwo           - lovlig\n",
    "- (p) _static        - lovlig - variabler som begynner med understrek brukes ofte som \"private variabler i objekter\". Anbefales ikke ellers.\n",
    "- (q) _4             - lovlig\n",
    "- (r) ___            - lovlig\n",
    "- (s) 10%            - ulovlig - kan ikke starte med tall\n",
    "- (t) a27834         - lovlig\n",
    "- (u) wilma's        - ulovlig - anførselstegn (enkle eller doble) brukes for å angi start og slutt på tekststrenger\n",
    "\n",
    "Det går også an å teste dem ved å skrive f.eks. _fred = 10_ i en kode-celle, og trykke Shift + Enter"
   ]
  },
  {
   "cell_type": "code",
   "execution_count": 25,
   "metadata": {},
   "outputs": [],
   "source": [
    "# Test noen av variabelnavnene her:\n"
   ]
  },
  {
   "cell_type": "markdown",
   "metadata": {},
   "source": [
    "## Flere oppgaver fra kapittel 2 i læreboka\n",
    "\n",
    "Hva betyr ordet _literal_ i programmeringsssammenheng?"
   ]
  },
  {
   "cell_type": "markdown",
   "metadata": {},
   "source": [
    "Svar: literal er betegnelsen for tegn i programkoden som representerer en verdi.\n",
    "\n",
    "x = 1    # Her er tallet 1 en verdi, og altså en literal.\n",
    "studiested = \"NTNU\"  # Her er NTNU en literal. studiested er en variabel, og dermed ikke en literal."
   ]
  },
  {
   "cell_type": "markdown",
   "metadata": {},
   "source": [
    "Fortsett med oppgave på slutten av kapittel 2, fra oppgave 10 og utover. Skriv inn svarene i dette dokumentet."
   ]
  },
  {
   "cell_type": "code",
   "execution_count": null,
   "metadata": {},
   "outputs": [],
   "source": []
  },
  {
   "cell_type": "markdown",
   "metadata": {},
   "source": [
    "# Andre oppgaver"
   ]
  },
  {
   "cell_type": "markdown",
   "metadata": {},
   "source": [
    "Write a program that displays your name and phone number."
   ]
  },
  {
   "cell_type": "code",
   "execution_count": 27,
   "metadata": {},
   "outputs": [
    {
     "name": "stdout",
     "output_type": "stream",
     "text": [
      "Navnet mitt er Sverre, og jeg har telefonnummer 12345678\n"
     ]
    },
    {
     "name": "stdin",
     "output_type": "stream",
     "text": [
      "Hva er navnet ditt?  Sverre\n",
      "Hva er telefonnummeret ditt?  22\n"
     ]
    }
   ],
   "source": [
    "# Alternativ 1:\n",
    "print(\"Navnet mitt er Sverre, og jeg har telefonnummer 12345678\")  # Det er ikke helt sant, men."
   ]
  },
  {
   "cell_type": "code",
   "execution_count": 28,
   "metadata": {},
   "outputs": [
    {
     "name": "stdin",
     "output_type": "stream",
     "text": [
      "Hva er navnet ditt?  S\n",
      "Hva er telefonnummeret ditt?  22\n"
     ]
    },
    {
     "name": "stdout",
     "output_type": "stream",
     "text": [
      "Navnet mitt er: S\n",
      "Telefonnummer: 22\n"
     ]
    }
   ],
   "source": [
    "# Alternativ 2:\n",
    "navn = input(\"Hva er navnet ditt? \")\n",
    "telefonnummer  = input(\"Hva er telefonnummeret ditt? \")\n",
    "print(\"Navnet mitt er: \" + navn)\n",
    "print(\"Telefonnummer:  \" + telefonnummer)\n"
   ]
  },
  {
   "cell_type": "markdown",
   "metadata": {},
   "source": [
    "A car is traveling at 70 km per hour. Assuming there are no accidents or delays, write a program that displays the distance the car will travel in 10 hours."
   ]
  },
  {
   "cell_type": "code",
   "execution_count": 30,
   "metadata": {},
   "outputs": [
    {
     "name": "stdout",
     "output_type": "stream",
     "text": [
      "På 10 timer vil jeg kjøre 700 kilometer.\n"
     ]
    }
   ],
   "source": [
    "speed = 70\n",
    "duration = 10\n",
    "distance = speed * duration\n",
    "print(\"På 10 timer vil jeg kjøre \" + str(distance) + \" kilometer.\")"
   ]
  },
  {
   "cell_type": "markdown",
   "metadata": {},
   "source": [
    "A cookie recipe has the following ingredients:\n",
    "- 250 grams of sugar\n",
    "- 100 grams of butter\n",
    "- 275 grams of flour\n",
    "The recipe produces 48 cookies. Write a program that displays how many grams of ingredients in each cookie."
   ]
  },
  {
   "cell_type": "code",
   "execution_count": 32,
   "metadata": {},
   "outputs": [
    {
     "name": "stdout",
     "output_type": "stream",
     "text": [
      "Ingrediensene for en kjeks veier 13.020833333333334 gram.\n"
     ]
    }
   ],
   "source": [
    "sugar = 250\n",
    "butter = 100\n",
    "flour = 275\n",
    "number_of_cookies = 48\n",
    "ingredients_weight_cookie = (sugar + butter + flour)/number_of_cookies\n",
    "print(\"Ingrediensene for en kjeks veier \" + str(ingredients_weight_cookie) + \" gram.\" )"
   ]
  },
  {
   "cell_type": "code",
   "execution_count": null,
   "metadata": {},
   "outputs": [],
   "source": []
  }
 ],
 "metadata": {
  "kernelspec": {
   "display_name": "Python 3",
   "language": "python",
   "name": "python3"
  },
  "language_info": {
   "codemirror_mode": {
    "name": "ipython",
    "version": 3
   },
   "file_extension": ".py",
   "mimetype": "text/x-python",
   "name": "python",
   "nbconvert_exporter": "python",
   "pygments_lexer": "ipython3",
   "version": "3.8.3"
  }
 },
 "nbformat": 4,
 "nbformat_minor": 4
}
