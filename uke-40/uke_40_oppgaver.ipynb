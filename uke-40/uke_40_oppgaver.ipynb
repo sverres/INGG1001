{
 "cells": [
  {
   "cell_type": "markdown",
   "metadata": {},
   "source": [
    "# Uke 40 - Variabler og variabelnavn\n",
    "\n",
    "Oppgavene er tatt fra læreboka _Fundamentals of Python_ av _Richard L. Halterman_.\n",
    "\n",
    "(Dette er samme oppgave som uke 39 - vi tar en litt myk start, så du får litt bedre tid på denne oppgaven)."
   ]
  },
  {
   "cell_type": "markdown",
   "metadata": {},
   "source": [
    "## Variabler\n",
    "\n",
    "Skriv inn disse linjene med kode i hver sin kode-celle nedenfor, og se hva resultatet blir når du \"kjører\" den (Shift + Enter)\n",
    "\n",
    "```python\n",
    "x = 6\n",
    "print(6)\n",
    "print(\"6\")\n",
    "```"
   ]
  },
  {
   "cell_type": "code",
   "execution_count": null,
   "metadata": {},
   "outputs": [],
   "source": []
  },
  {
   "cell_type": "code",
   "execution_count": null,
   "metadata": {
    "scrolled": true
   },
   "outputs": [],
   "source": []
  },
  {
   "cell_type": "code",
   "execution_count": null,
   "metadata": {},
   "outputs": [],
   "source": []
  },
  {
   "cell_type": "markdown",
   "metadata": {},
   "source": [
    "Gjenta oppgaven ovenfor med disse linjene - og tenk over - hva er forskjellen på disse to oppgavene?\n",
    "\n",
    "```python\n",
    "x = 7\n",
    "print(x)\n",
    "print(\"x\")\n",
    "```"
   ]
  },
  {
   "cell_type": "code",
   "execution_count": null,
   "metadata": {},
   "outputs": [],
   "source": []
  },
  {
   "cell_type": "code",
   "execution_count": null,
   "metadata": {},
   "outputs": [],
   "source": []
  },
  {
   "cell_type": "code",
   "execution_count": null,
   "metadata": {},
   "outputs": [],
   "source": []
  },
  {
   "cell_type": "markdown",
   "metadata": {},
   "source": [
    "## Variabelnavn\n",
    "\n",
    "Se i læreboka, kapittel 2,  og finn ut hva som er lovlige navn på variabler. Hvilke av navnene a-u nedenfor er lovlige? Ved å dobbelklikke i teksten her kommer du i skrivemodus og kan skrive \"lovlig\" eller \"ulovlig\" på hver linje - og gjerne også hvorfor det eventuelt er ulovlig. \n",
    "\n",
    "- (a) fred\n",
    "- (b) if\n",
    "- (c) 2x\n",
    "- (d) -4\n",
    "- (e) sum_total\n",
    "- (f) sumTotal\n",
    "- (g) sum-total\n",
    "- (h) sum total\n",
    "- (i) sumtotal\n",
    "- (j) While\n",
    "- (k) x2\n",
    "- (l) Private\n",
    "- (m) public\n",
    "- (n) $16\n",
    "- (o) xTwo\n",
    "- (p) _static\n",
    "- (q) _4\n",
    "- (r) ___\n",
    "- (s) 10%\n",
    "- (t) a27834\n",
    "- (u) wilma's\n",
    "\n",
    "Det går også an å teste dem ved å skrive f.eks. _fred = 10_ i en kode-celle, og trykke Shift + Enter"
   ]
  },
  {
   "cell_type": "code",
   "execution_count": 1,
   "metadata": {},
   "outputs": [],
   "source": [
    "# Test noen av variabelnavnene her:\n"
   ]
  },
  {
   "cell_type": "markdown",
   "metadata": {},
   "source": [
    "## Flere oppgaver fra kapittel 2 i læreboka\n",
    "\n",
    "Hva betyr ordet _literal_ i programmeringsssammenheng?"
   ]
  },
  {
   "cell_type": "markdown",
   "metadata": {},
   "source": [
    "Svar:"
   ]
  },
  {
   "cell_type": "markdown",
   "metadata": {},
   "source": [
    "Fortsett med oppgave på slutten av kapittel 2, fra oppgave 10 og utover. Skriv inn svarene i dette dokumentet."
   ]
  },
  {
   "cell_type": "code",
   "execution_count": null,
   "metadata": {},
   "outputs": [],
   "source": []
  },
  {
   "cell_type": "markdown",
   "metadata": {},
   "source": [
    "# Andre oppgaver"
   ]
  },
  {
   "cell_type": "markdown",
   "metadata": {},
   "source": [
    "Write a program that displays your name and phone number."
   ]
  },
  {
   "cell_type": "code",
   "execution_count": null,
   "metadata": {},
   "outputs": [],
   "source": []
  },
  {
   "cell_type": "markdown",
   "metadata": {},
   "source": [
    "A car is traveling at 70 km per hour. Assuming there are no accidents or delays, write a program that displays the distance the car will travel in 10 hours."
   ]
  },
  {
   "cell_type": "code",
   "execution_count": null,
   "metadata": {},
   "outputs": [],
   "source": []
  },
  {
   "cell_type": "markdown",
   "metadata": {},
   "source": [
    "A cookie recipe has the following ingredients:\n",
    "- 250 grams of sugar\n",
    "- 100 grams of butter\n",
    "- 275 grams of flour\n",
    "The recipe produces 48 cookies. Write a program that displays how many grams of ingredients in each cookie."
   ]
  },
  {
   "cell_type": "code",
   "execution_count": null,
   "metadata": {},
   "outputs": [],
   "source": []
  }
 ],
 "metadata": {
  "kernelspec": {
   "display_name": "Python 3",
   "language": "python",
   "name": "python3"
  },
  "language_info": {
   "codemirror_mode": {
    "name": "ipython",
    "version": 3
   },
   "file_extension": ".py",
   "mimetype": "text/x-python",
   "name": "python",
   "nbconvert_exporter": "python",
   "pygments_lexer": "ipython3",
   "version": "3.7.4"
  }
 },
 "nbformat": 4,
 "nbformat_minor": 4
}
