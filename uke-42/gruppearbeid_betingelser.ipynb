{
 "cells": [
  {
   "cell_type": "raw",
   "metadata": {},
   "source": [
    "Express the following Boolean expressions in simpler form;  that is,  use fewer operators or fewer symbols.\n",
    "x is an integer.\n",
    "\n",
    "Tips: gi x og y verdier og test ut uttrykkene.\n",
    "\n",
    "(a) not (x == 2)\n",
    "(b) x < 2 or x == 2\n",
    "(c) not (x < y)\n",
    "(d) not (x <= y)\n",
    "(e) x < 10 and x > 20\n",
    "(f) x > 10 or x < 20\n",
    "(g) x != 0\n",
    "(h) x == 0"
   ]
  },
  {
   "cell_type": "raw",
   "metadata": {},
   "source": [
    "Express the following Boolean expressions in an equivalent form without the not operator.\n",
    "x and y are integers.\n",
    "\n",
    "(a) not (x == y)\n",
    "(b) not (x > y)\n",
    "(c) not (x < y)\n",
    "(d) not (x >= y)\n",
    "(e) not (x <= y)\n",
    "(f) not (x != y)\n",
    "(g) not (x != y)\n",
    "(h) not (x == y and x < 2)\n",
    "(i) not (x == y or x < 2)\n",
    "(j) not (not (x == y))"
   ]
  }
 ],
 "metadata": {
  "kernelspec": {
   "display_name": "Python 3",
   "language": "python",
   "name": "python3"
  },
  "language_info": {
   "codemirror_mode": {
    "name": "ipython",
    "version": 3
   },
   "file_extension": ".py",
   "mimetype": "text/x-python",
   "name": "python",
   "nbconvert_exporter": "python",
   "pygments_lexer": "ipython3",
   "version": "3.7.4"
  }
 },
 "nbformat": 4,
 "nbformat_minor": 4
}
