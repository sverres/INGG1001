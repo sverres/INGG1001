{
 "cells": [
  {
   "cell_type": "markdown",
   "metadata": {},
   "source": [
    "# Øvinger - if setninger, for løkke, while løkke"
   ]
  },
  {
   "cell_type": "raw",
   "metadata": {},
   "source": [
    "Skriv oddetallene fra 1 til 20. (Bruk for løkke)"
   ]
  },
  {
   "cell_type": "code",
   "execution_count": null,
   "metadata": {},
   "outputs": [],
   "source": []
  },
  {
   "cell_type": "raw",
   "metadata": {},
   "source": [
    "Skriv tallene i 3-gangen mellom 12 og 25. (Bruk for løkke)"
   ]
  },
  {
   "cell_type": "code",
   "execution_count": null,
   "metadata": {},
   "outputs": [],
   "source": []
  },
  {
   "cell_type": "raw",
   "metadata": {},
   "source": [
    "Telle baklengs fra 100 til 80, med intervall på -3, dvs. 100, 97, ... (Bruk for løkke)"
   ]
  },
  {
   "cell_type": "code",
   "execution_count": null,
   "metadata": {},
   "outputs": [],
   "source": []
  },
  {
   "cell_type": "raw",
   "metadata": {},
   "source": [
    "Skriv  et program som sjekker om en person kan stemme, altså om personen er 18 år eller eldre. Man må da spørre brukeren om alder og lagre svaret i en variabel, for deretter å sjekke om brukerens alder er 18 eller mer."
   ]
  },
  {
   "cell_type": "code",
   "execution_count": null,
   "metadata": {},
   "outputs": [],
   "source": []
  },
  {
   "cell_type": "raw",
   "metadata": {},
   "source": [
    "Lag en utvidet versjon av det forrige programmet som sier om personen kan stemme eller ikke, med følgende regler:\n",
    "\n",
    "alder >= 18: Kan stemme både ved lokalvalg og Stortingsvalg\n",
    "alder >= 16: Kan stemme ved lokalvalg, men ikke ved Stortingsvalg\n",
    "ellers (alder < 16): Kan ikke stemme."
   ]
  },
  {
   "cell_type": "code",
   "execution_count": null,
   "metadata": {},
   "outputs": [],
   "source": []
  },
  {
   "cell_type": "raw",
   "metadata": {},
   "source": [
    "Skriv et program for å teste sjenerøsitet som spør brukeren hvor mange epler han har, og hvor mange han er villig til å gi bort. Basert på disse svarene er det tre mulige utfall, som vist under:\n",
    "\n",
    "Dette er et program for å teste din sjenerøsitet.\n",
    "Hvor mange epler har du? 0\n",
    "Æsj, det sier du bare for å slippe å gi noe!\n",
    "\n",
    "\n",
    "Dette er et program for å teste din sjenerøsitet.\n",
    "Hvor mange epler har du? 5\n",
    "Hvor mange kan du gi til meg? 2\n",
    "Du beholder det meste for deg selv...\n",
    "Du har nå 3 epler igjen.\n",
    "\n",
    "\n",
    "Dette er et program for å teste din sjenerøsitet.\n",
    "Hvor mange epler har du? 7\n",
    "Hvor mange kan du gi til meg? 5\n",
    "Takk, det var snilt!\n",
    "Du har nå 2 epler igjen."
   ]
  },
  {
   "cell_type": "code",
   "execution_count": null,
   "metadata": {},
   "outputs": [],
   "source": []
  },
  {
   "cell_type": "raw",
   "metadata": {},
   "source": [
    "I denne oppgaven må du benytte deg av biblioteket random. Derfor skal koden din starte med \"import random\".\n",
    "Eksempel på bruk av random.randint()\n",
    "\n",
    "tilfeldigTall = random.randint(1,50)    #gir deg et tilfeldig tall fra og med 1, til og med 50\n",
    "tall = random.randint(a,b)              #gir deg et tilfeldig tall mellom a og b. (Fra og med a, til og med b)\n",
    "\n",
    "a) Be brukeren om å velge en nedre og en øvre grense for tall han eller hun skal gjette på. Lagre disse to opplysningene i to variabler.\n",
    "\n",
    "b) Lag en variabel TilfeldigTall som genererer et tilfeldig tall i intervallet mellom den øvre og den nedre grensen som brukeren har satt. Fortsett å skriv i samme felt som i oppgave a.\n",
    "\n",
    "c) Skriv en while-løkke som kjører så lenge brukeren ikke har gjettet riktig svar. Brukeren skal få tilbakemelding for hvert gjett om han eller hun gjettet for lavt, for høyt eller riktig. Fortsett å skriv i samme felt som i oppgave a og b.\n",
    "Eksempel på kjøring:\n",
    "\n",
    "Gi en nedre grense for det tilfeldige tallet: 1\n",
    "Gi en øvre grense for det tilfeldige tallet: 100\n",
    "Make a guess 50\n",
    "The correct number is lower\n",
    "Make a guess 25\n",
    "The correct Number is higher\n",
    "Make a guess 37\n",
    "The correct number is lower\n",
    "Make a guess 32\n",
    "You guessed correct!"
   ]
  },
  {
   "cell_type": "code",
   "execution_count": null,
   "metadata": {},
   "outputs": [],
   "source": []
  }
 ],
 "metadata": {
  "kernelspec": {
   "display_name": "Python 3",
   "language": "python",
   "name": "python3"
  },
  "language_info": {
   "codemirror_mode": {
    "name": "ipython",
    "version": 3
   },
   "file_extension": ".py",
   "mimetype": "text/x-python",
   "name": "python",
   "nbconvert_exporter": "python",
   "pygments_lexer": "ipython3",
   "version": "3.7.4"
  }
 },
 "nbformat": 4,
 "nbformat_minor": 4
}
