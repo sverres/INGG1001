{
 "cells": [
  {
   "cell_type": "markdown",
   "metadata": {},
   "source": [
    "## Eksempel utviklet under forlesning 05.11.2020"
   ]
  },
  {
   "cell_type": "code",
   "execution_count": 1,
   "metadata": {},
   "outputs": [
    {
     "name": "stdout",
     "output_type": "stream",
     "text": [
      "lengde av lines:  21541\n"
     ]
    }
   ],
   "source": [
    "with open(\"../demo/bm_results2012.txt\") as f:\n",
    "    lines = f.readlines()\n",
    "    print(\"lengde av lines: \", len(lines))"
   ]
  },
  {
   "cell_type": "code",
   "execution_count": 2,
   "metadata": {},
   "outputs": [
    {
     "name": "stdout",
     "output_type": "stream",
     "text": [
      "<class 'list'>\n"
     ]
    }
   ],
   "source": [
    "print(type(lines))"
   ]
  },
  {
   "cell_type": "code",
   "execution_count": 3,
   "metadata": {},
   "outputs": [
    {
     "name": "stdout",
     "output_type": "stream",
     "text": [
      "\"Gebremariam Gebregziabher\",M,27,14,ETH,142.93\n",
      "\n"
     ]
    }
   ],
   "source": [
    "print(lines[0])"
   ]
  },
  {
   "cell_type": "code",
   "execution_count": 4,
   "metadata": {},
   "outputs": [
    {
     "name": "stdout",
     "output_type": "stream",
     "text": [
      "<class 'str'>\n"
     ]
    }
   ],
   "source": [
    "print(type(lines[0]))"
   ]
  },
  {
   "cell_type": "code",
   "execution_count": 5,
   "metadata": {},
   "outputs": [],
   "source": [
    "# Legger innholdet av første linje inn i en variabel\n",
    "# for å bruke denne linja for å teste hvordan man splitter opp innholdet på linja.\n",
    "\n",
    "line = lines[0].split(\",\")"
   ]
  },
  {
   "cell_type": "code",
   "execution_count": 6,
   "metadata": {},
   "outputs": [
    {
     "name": "stdout",
     "output_type": "stream",
     "text": [
      "['\"Gebremariam Gebregziabher\"', 'M', '27', '14', 'ETH', '142.93\\n']\n"
     ]
    }
   ],
   "source": [
    "print(line)"
   ]
  },
  {
   "cell_type": "code",
   "execution_count": 7,
   "metadata": {},
   "outputs": [],
   "source": [
    "last_name = line[0].split(\" \")[0][1:]\n",
    "first_name = line[0].split(\" \")[1][:-1]"
   ]
  },
  {
   "cell_type": "code",
   "execution_count": 8,
   "metadata": {},
   "outputs": [
    {
     "name": "stdout",
     "output_type": "stream",
     "text": [
      "Gebremariam\n",
      "Gebregziabher\n"
     ]
    }
   ],
   "source": [
    "print(last_name)\n",
    "print(first_name)"
   ]
  },
  {
   "cell_type": "code",
   "execution_count": 9,
   "metadata": {},
   "outputs": [],
   "source": [
    "age = line[2]"
   ]
  },
  {
   "cell_type": "code",
   "execution_count": 10,
   "metadata": {},
   "outputs": [
    {
     "name": "stdout",
     "output_type": "stream",
     "text": [
      "27\n"
     ]
    }
   ],
   "source": [
    "print(age)"
   ]
  },
  {
   "cell_type": "code",
   "execution_count": 11,
   "metadata": {},
   "outputs": [
    {
     "name": "stdout",
     "output_type": "stream",
     "text": [
      "lengde av lines:  21541\n",
      "Gebremariam Gebregziabher\n",
      "ages:  21541\n",
      "first_name:  21541\n",
      "last_name:  21541\n"
     ]
    }
   ],
   "source": [
    "with open(\"../demo/bm_results2012.txt\") as f:\n",
    "    lines = f.readlines()\n",
    "    print(\"lengde av lines: \", len(lines))\n",
    "\n",
    "\n",
    "first_names = []\n",
    "last_names = []\n",
    "ages = []\n",
    "\n",
    "line_number = 0\n",
    "\n",
    "for line in lines:\n",
    "    \n",
    "    line_number += 1\n",
    "    \n",
    "    # print(line)\n",
    "\n",
    "    line_parts = line.split(\",\")\n",
    "    \n",
    "    name = line_parts[0].split(\" \")\n",
    "    \n",
    "    # Hvis navnefeltet ikke består av 2 elementer, fornavn og etternavn,\n",
    "    # så legges hele navnet inn i etternavn, og fornavn settes tomt.\n",
    "    # Dette kan selvsagt gjøre på en bedre måte, med en tredje variabel for\n",
    "    # mellomnavn, og litt mer testing på innholdet.\n",
    "    \n",
    "    if len(name) == 2:\n",
    "        last_name = name[0][1:]\n",
    "        first_name = name[1][:-1]\n",
    "    else:\n",
    "        last_name = name[0]\n",
    "        first_name = \"\"\n",
    "        #print(name)\n",
    "    \n",
    "    if line_number == 1:\n",
    "        print(last_name, first_name)\n",
    "        \n",
    "    first_names.append(first_name)\n",
    "    last_names.append(last_name)\n",
    "    \n",
    "    age = int(line_parts[2])\n",
    "    \n",
    "    ages.append(age)\n",
    "    \n",
    "print(\"ages: \", len(ages))\n",
    "print(\"first_name: \", len(first_names))\n",
    "print(\"last_name: \", len(last_names))\n",
    "\n",
    "number_runners = len(ages)\n",
    "sum_age = sum(ages)\n",
    "\n",
    "average_age = sum_age/number_runners\n",
    "\n",
    "with open(\"report.txt\", \"w\") as f:\n",
    "    \n",
    "    f.write(f\"Gjennomsnittsalder er:{average_age:>6.1f} \")"
   ]
  },
  {
   "cell_type": "code",
   "execution_count": null,
   "metadata": {},
   "outputs": [],
   "source": []
  }
 ],
 "metadata": {
  "kernelspec": {
   "display_name": "Python 3",
   "language": "python",
   "name": "python3"
  },
  "language_info": {
   "codemirror_mode": {
    "name": "ipython",
    "version": 3
   },
   "file_extension": ".py",
   "mimetype": "text/x-python",
   "name": "python",
   "nbconvert_exporter": "python",
   "pygments_lexer": "ipython3",
   "version": "3.8.3"
  }
 },
 "nbformat": 4,
 "nbformat_minor": 4
}
