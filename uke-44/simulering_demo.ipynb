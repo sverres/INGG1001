{
 "cells": [
  {
   "cell_type": "markdown",
   "metadata": {},
   "source": [
    "## Simulering med Python"
   ]
  },
  {
   "cell_type": "markdown",
   "metadata": {},
   "source": [
    "Kommentar 30.10.20:\n",
    "\n",
    "Det er en logisk brist i algoritmen for dette programmet. service_time-parametrene vil ikke ha noen innvirkning på hvorvidt køen øker eller minker. Kan du se hvorfor?\n",
    "\n",
    "Derimot, det å legge til flere ansatte ved å ha flere funksjonskall til visitor_serviced vil ha betydning for utviklingen til køen."
   ]
  },
  {
   "cell_type": "code",
   "execution_count": 26,
   "metadata": {},
   "outputs": [],
   "source": [
    "Q1 = []"
   ]
  },
  {
   "cell_type": "code",
   "execution_count": 27,
   "metadata": {},
   "outputs": [],
   "source": [
    "# Funksjon som simulerer hvordan person kommer inn i køen\n",
    "\n",
    "def enqueue(number, queue):\n",
    "    for person in range(number):\n",
    "        queue.insert(0, 'P')"
   ]
  },
  {
   "cell_type": "code",
   "execution_count": 28,
   "metadata": {},
   "outputs": [],
   "source": [
    "# Funksjon som tar bort en person i køen\n",
    "\n",
    "def dequeue(queue):\n",
    "    if len(queue) > 0:  # Lagt til test 30.10.20 \n",
    "        queue.pop()\n"
   ]
  },
  {
   "cell_type": "code",
   "execution_count": 29,
   "metadata": {},
   "outputs": [],
   "source": [
    "# Køprosesen - simulerer hvordan personer dukker opp\n",
    "import random\n",
    "import time\n",
    "\n",
    "def visitor_process(time_interval, randomness, queue, queue_name):\n",
    "    time_until_next = random.normalvariate(time_interval, randomness)\n",
    "    group_size = random.randint(0,4) # Endret 30.10.20 - åpnet for at 0 kan trekkes\n",
    "    time.sleep(time_until_next)\n",
    "    \n",
    "    enqueue(group_size, queue)\n",
    "    print(queue_name, queue)\n",
    "    "
   ]
  },
  {
   "cell_type": "code",
   "execution_count": 30,
   "metadata": {},
   "outputs": [],
   "source": [
    "# Ekspedisjon - hvordan (hvor ofte) personer bli ekspedert\n",
    "\n",
    "def visitor_serviced(queue, service_time, queue_name):\n",
    "    time.sleep(service_time)\n",
    "    dequeue(queue)\n",
    "    \n",
    "    print(queue_name, queue)"
   ]
  },
  {
   "cell_type": "code",
   "execution_count": null,
   "metadata": {},
   "outputs": [
    {
     "name": "stdout",
     "output_type": "stream",
     "text": [
      "Q1 ['P', 'P', 'P']\n",
      "Q1 ['P', 'P']\n",
      "Q1 ['P']\n",
      "Q1 ['P', 'P', 'P', 'P', 'P']\n",
      "Q1 ['P', 'P', 'P', 'P']\n",
      "Q1 ['P', 'P', 'P']\n",
      "Q1 ['P', 'P', 'P', 'P', 'P', 'P', 'P']\n",
      "Q1 ['P', 'P', 'P', 'P', 'P', 'P']\n",
      "Q1 ['P', 'P', 'P', 'P', 'P']\n",
      "Q1 ['P', 'P', 'P', 'P', 'P', 'P', 'P', 'P']\n",
      "Q1 ['P', 'P', 'P', 'P', 'P', 'P', 'P']\n",
      "Q1 ['P', 'P', 'P', 'P', 'P', 'P']\n",
      "Q1 ['P', 'P', 'P', 'P', 'P', 'P']\n",
      "Q1 ['P', 'P', 'P', 'P', 'P']\n",
      "Q1 ['P', 'P', 'P', 'P']\n",
      "Q1 ['P', 'P', 'P', 'P', 'P', 'P', 'P']\n",
      "Q1 ['P', 'P', 'P', 'P', 'P', 'P']\n",
      "Q1 ['P', 'P', 'P', 'P', 'P']\n",
      "Q1 ['P', 'P', 'P', 'P', 'P', 'P']\n",
      "Q1 ['P', 'P', 'P', 'P', 'P']\n",
      "Q1 ['P', 'P', 'P', 'P']\n",
      "Q1 ['P', 'P', 'P', 'P', 'P', 'P']\n",
      "Q1 ['P', 'P', 'P', 'P', 'P']\n",
      "Q1 ['P', 'P', 'P', 'P']\n",
      "Q1 ['P', 'P', 'P', 'P']\n",
      "Q1 ['P', 'P', 'P']\n",
      "Q1 ['P', 'P']\n",
      "Q1 ['P', 'P', 'P', 'P', 'P']\n",
      "Q1 ['P', 'P', 'P', 'P']\n",
      "Q1 ['P', 'P', 'P']\n",
      "Q1 ['P', 'P', 'P', 'P', 'P']\n",
      "Q1 ['P', 'P', 'P', 'P']\n",
      "Q1 ['P', 'P', 'P']\n",
      "Q1 ['P', 'P', 'P', 'P', 'P', 'P']\n",
      "Q1 ['P', 'P', 'P', 'P', 'P']\n",
      "Q1 ['P', 'P', 'P', 'P']\n",
      "Q1 ['P', 'P', 'P', 'P', 'P']\n",
      "Q1 ['P', 'P', 'P', 'P']\n"
     ]
    }
   ],
   "source": [
    "# Kjører simulering\n",
    "\n",
    "service_limit = 30\n",
    "service_time = 3\n",
    "service_time_2 = 3\n",
    "number_serviced = 0\n",
    "time_interval = 3.0\n",
    "randomness = 1.0\n",
    "\n",
    "while number_serviced < service_limit:\n",
    "    visitor_process(time_interval, randomness, Q1, 'Q1')\n",
    "    visitor_serviced(Q1, service_time, 'Q1')\n",
    "    number_serviced = number_serviced + 1\n",
    "    visitor_serviced(Q1, service_time_2, 'Q1')\n",
    "    number_serviced = number_serviced + 1\n",
    "print(\"Avsluttet etter at service_limit er nådd\")"
   ]
  },
  {
   "cell_type": "code",
   "execution_count": null,
   "metadata": {},
   "outputs": [],
   "source": []
  }
 ],
 "metadata": {
  "kernelspec": {
   "display_name": "Python 3",
   "language": "python",
   "name": "python3"
  },
  "language_info": {
   "codemirror_mode": {
    "name": "ipython",
    "version": 3
   },
   "file_extension": ".py",
   "mimetype": "text/x-python",
   "name": "python",
   "nbconvert_exporter": "python",
   "pygments_lexer": "ipython3",
   "version": "3.8.3"
  }
 },
 "nbformat": 4,
 "nbformat_minor": 4
}
