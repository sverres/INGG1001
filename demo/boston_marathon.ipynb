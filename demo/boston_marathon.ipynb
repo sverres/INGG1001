{
 "cells": [
  {
   "cell_type": "markdown",
   "metadata": {},
   "source": [
    "## Boston Marathon - følgende eksempel er en bearbeidet versjon av kode fra kap. 17.1 i Guttag, J,V, 2016: Introduction to computation and programming using Python\n"
   ]
  },
  {
   "cell_type": "raw",
   "metadata": {},
   "source": [
    "# Read the contents of the given file. Assumes the file \n",
    "# in a comma-separated format, with 6 elements in each entry:\n",
    "# 0. Name (string),\n",
    "# 1. Gender (string)\n",
    "# 2. Age (int)\n",
    "# 3. Division (int),\n",
    "# 4. Country (string),\n",
    "# 5. Overall time (float)   \n",
    "#"
   ]
  },
  {
   "cell_type": "code",
   "execution_count": null,
   "metadata": {},
   "outputs": [],
   "source": [
    "import matplotlib.pyplot as plt\n",
    "\n",
    "data = {\n",
    "    'name': [],\n",
    "    'gender': [],\n",
    "    'age': [],\n",
    "    'division': [],\n",
    "    'country': [],\n",
    "    'time': []\n",
    "}"
   ]
  },
  {
   "cell_type": "code",
   "execution_count": null,
   "metadata": {},
   "outputs": [],
   "source": [
    "with open('bm_results2012.txt') as f:\n",
    "\n",
    "    lines = f.readlines()\n",
    "    \n",
    "    print(type(lines))\n",
    "    print(lines[0])\n",
    "    print(len(lines))\n",
    "\n",
    "    lnr = 0\n",
    "    \n",
    "    for line in lines:\n",
    "        lnr += 1\n",
    "        split = line.split(',')\n",
    "        if lnr == 1:\n",
    "            print(split)\n",
    "        data['name'].append(split[0])\n",
    "        data['gender'].append(split[1])\n",
    "        data['age'].append(int(split[2]))\n",
    "        data['division'].append(int(split[3]))\n",
    "        data['country'].append(split[4]) \n",
    "        data['time'].append(float(split[5]))\n"
   ]
  },
  {
   "cell_type": "code",
   "execution_count": null,
   "metadata": {},
   "outputs": [],
   "source": [
    "#print(data)"
   ]
  },
  {
   "cell_type": "code",
   "execution_count": 5,
   "metadata": {},
   "outputs": [
    {
     "data": {
      "image/png": "[encoded data removed]",
      "text/plain": [
       "<Figure size 432x288 with 1 Axes>"
      ]
     },
     "metadata": {
      "needs_background": "light"
     },
     "output_type": "display_data"
    }
   ],
   "source": [
    "plt.hist(data['time'], 20, edgecolor='black')\n",
    "plt.title('2012 Boston Marathon')\n",
    "plt.xlabel('Minutes to Complete Race')\n",
    "plt.ylabel('Number of Runners')\n",
    "plt.show()"
   ]
  },
  {
   "cell_type": "code",
   "execution_count": null,
   "metadata": {},
   "outputs": [],
   "source": []
  }
 ],
 "metadata": {
  "kernelspec": {
   "display_name": "Python 3",
   "language": "python",
   "name": "python3"
  },
  "language_info": {
   "codemirror_mode": {
    "name": "ipython",
    "version": 3
   },
   "file_extension": ".py",
   "mimetype": "text/x-python",
   "name": "python",
   "nbconvert_exporter": "python",
   "pygments_lexer": "ipython3",
   "version": "3.8.3"
  }
 },
 "nbformat": 4,
 "nbformat_minor": 4
}
