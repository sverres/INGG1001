{
 "cells": [
  {
   "cell_type": "markdown",
   "metadata": {},
   "source": [
    "# Funksjoner og fil-operasjoner"
   ]
  },
  {
   "cell_type": "markdown",
   "metadata": {},
   "source": [
    "Skriv en funksjon som skriver radius og arealet av en sirkel. Funksjonen areal_sirkel\n",
    "- Tar parameterene r (radius) og pi\n",
    "- Beregner arealet av en sirkel ved: $ A = π r ^{2}$ \n",
    "- Radius og arealet skal skrives ut på skjermen"
   ]
  },
  {
   "cell_type": "code",
   "execution_count": null,
   "metadata": {},
   "outputs": [],
   "source": []
  },
  {
   "cell_type": "markdown",
   "metadata": {},
   "source": [
    "## Hva er feil?"
   ]
  },
  {
   "cell_type": "markdown",
   "metadata": {},
   "source": [
    "Alle kodesnuttene under inneholder en feil, men en av dem vil fortsatt kjøre uten å krasje; hvilken og hvorfor? Prøv å finne feilen i hver kodesnutt."
   ]
  },
  {
   "cell_type": "markdown",
   "metadata": {},
   "source": [
    "Hint:\n",
    "\n",
    "Feilen i hver kode befinner seg i cakes()-funksjonen. Tenk på plassering av variabelen brukt i cakes-funksjonen.\n",
    "\n",
    "For å finne ut hvilken kodesnutt som ikke vil krasje ved kjøring av koden, tenk på funksjonskall. Er det et tilfelle der koden med feil i ikke vil bli utført?"
   ]
  },
  {
   "cell_type": "code",
   "execution_count": null,
   "metadata": {},
   "outputs": [],
   "source": [
    "#Kodesnutt 1:\n",
    "def cupcakes():\n",
    "    cupcakes = 24\n",
    "    print(\"Jeg har laget\",cupcakes,\"cupcakes\")\n",
    "\n",
    "def cakes():\n",
    "    print(\"Men jeg har bare bakt\",cake,\"kake\")\n",
    "    cake = 1\n",
    "\n",
    "cupcakes()\n",
    "cakes()"
   ]
  },
  {
   "cell_type": "code",
   "execution_count": null,
   "metadata": {},
   "outputs": [],
   "source": [
    "#Kodesnutt 2:\n",
    "def cupcakes():\n",
    "    cupcake = 1\n",
    "    print(\"Jeg har laget\",cupcake,\"cupcake\")\n",
    "\n",
    "def cakes():\n",
    "    print(\"Og jeg har bakt\",cupcake,\"kake\")\n",
    "\n",
    "cupcakes()\n",
    "cakes()"
   ]
  },
  {
   "cell_type": "code",
   "execution_count": null,
   "metadata": {},
   "outputs": [],
   "source": [
    "#Kodesnutt 3:\n",
    "def cupcakes():\n",
    "    cupcakes = 24\n",
    "    print(\"Jeg har laget\",cupcakes,\"cupcakes\")\n",
    "\n",
    "def cakes():\n",
    "    print(\"Men jeg har bare bakt\",cake,\"kake\")\n",
    "\n",
    "cupcakes()"
   ]
  },
  {
   "cell_type": "markdown",
   "metadata": {},
   "source": [
    "I denne oppgaven skal du skrive to funksjoner. Den første skal ta inn to argumenter x og y, lage en variabel num = x//y, og returnere resultatet slik at programmet kan skrive til skjerm \"Heltallsdivisjon av x over y gir num\".\n",
    "\n",
    "Den andre funksjonen skal ta inn ett argument x, lage en varibel num = x**2, og returnere resultatet slik at programmet kan skrive til skjerm \"Kvadratet av x er num\".\n",
    "\n",
    "Eksempel på kjøring:\n",
    "\n",
    "Heltallsdivisjon av 23 over 4 gir 5\n",
    "Kvadratet av 3 er 9"
   ]
  },
  {
   "cell_type": "code",
   "execution_count": null,
   "metadata": {},
   "outputs": [],
   "source": []
  },
  {
   "cell_type": "markdown",
   "metadata": {},
   "source": [
    "## Arbeidsdager"
   ]
  },
  {
   "cell_type": "markdown",
   "metadata": {},
   "source": [
    "Et vanlig år består av 52 hele uker og én dag, til sammen 365 dager. Det vil si at hvis ett år starter på en mandag, starter neste år på en tirsdag. Skuddår har en dag ekstra. Dvs. hvis et skuddår starter på en mandag, starter neste år på en onsdag. 1. januar 1900 var en mandag. Skuddår er litt finurlig definert. Bruk følgende funksjon til å bestemme om et år er et skuddår:"
   ]
  },
  {
   "cell_type": "code",
   "execution_count": null,
   "metadata": {},
   "outputs": [],
   "source": [
    "# Trykk ctrl + enter her så har du denne funksjonen til senere oppgaver\n",
    "def is_leap_year ( year ):\n",
    "    if year % 400 == 0:\n",
    "        return True\n",
    "    elif year % 100 == 0:\n",
    "        return False\n",
    "    elif year % 4 == 0:\n",
    "        return True\n",
    "    return False"
   ]
  },
  {
   "cell_type": "markdown",
   "metadata": {},
   "source": [
    "## a)"
   ]
  },
  {
   "cell_type": "markdown",
   "metadata": {},
   "source": [
    "Lag først en funksjon weekday_newyear(year) som tar inn et årstall, og returnerer hvilken ukedag året starter på. Ukedager representeres med heltall, dvs. mandag = 0, tirsdag = 1, ..., søndag = 6.\n",
    "\n",
    "Skriv deretter ut årstall med tilhørende første ukedag i tekstlig format for år 1900 til og med 1919 ved å benytte funksjonen weekday_newyear(year)."
   ]
  },
  {
   "cell_type": "code",
   "execution_count": null,
   "metadata": {},
   "outputs": [],
   "source": []
  },
  {
   "cell_type": "markdown",
   "metadata": {},
   "source": [
    "## b)"
   ]
  },
  {
   "cell_type": "markdown",
   "metadata": {},
   "source": [
    "Hvis du har gjort alt riktig skal koden din gi følgende output:\n",
    "\n",
    "1900 man\n",
    "1901 tir\n",
    "1902 ons\n",
    "1903 tor\n",
    "1904 fre\n",
    "1905 son\n",
    "1906 man\n",
    "1907 tir\n",
    "1908 ons\n",
    "1909 fre\n",
    "1910 lor\n",
    "1911 son\n",
    "1912 man\n",
    "1913 ons\n",
    "1914 tor\n",
    "1915 fre\n",
    "1916 lor\n",
    "1917 man\n",
    "1918 tir\n",
    "1919 ons"
   ]
  },
  {
   "cell_type": "markdown",
   "metadata": {},
   "source": [
    "Lag funksjonen is_workday(day) som tar inn en ukedag, og returnerer True om ukedagen er arbeidsdag, og False ellers. (Alle hverdager er arbeidsdager. Lørdag og søndag er ikke arbeidsdager. For eksempel skal is_workday(2) returnere True, mens is_workday(5) skal returnere False."
   ]
  },
  {
   "cell_type": "code",
   "execution_count": null,
   "metadata": {},
   "outputs": [],
   "source": []
  },
  {
   "cell_type": "markdown",
   "metadata": {},
   "source": [
    "## c)"
   ]
  },
  {
   "cell_type": "markdown",
   "metadata": {},
   "source": [
    "Lag først funksjonen workdays_in_year(year) som tar inn et årstall og skriver ut antall arbeidsdager i det gitte året. (Vi ser bort ifra helligdager som faller på arbeidsdager, dvs. at bl.a. langfredag vil telles som en arbeidsdag.)\n",
    "\n",
    "Husk at skuddår har en ekstra dag i februar.\n",
    "\n",
    "Skriv deretter ut antall arbeidsdager for årene 1900 til og med 1919."
   ]
  },
  {
   "cell_type": "code",
   "execution_count": null,
   "metadata": {},
   "outputs": [],
   "source": []
  },
  {
   "cell_type": "markdown",
   "metadata": {},
   "source": [
    "Hint: Benytt deg av tidligere lagde funksjoner for å slippe å skrive mye kode på nytt.\n",
    "\n",
    "Har du gjort alt riktig skal koden din gi følgende output:\n",
    "\n",
    "1900 har 261 arbeidsdager\n",
    "1901 har 261 arbeidsdager\n",
    "1902 har 261 arbeidsdager\n",
    "1903 har 261 arbeidsdager\n",
    "1904 har 261 arbeidsdager\n",
    "1905 har 260 arbeidsdager\n",
    "1906 har 261 arbeidsdager\n",
    "1907 har 261 arbeidsdager\n",
    "1908 har 262 arbeidsdager\n",
    "1909 har 261 arbeidsdager\n",
    "1910 har 260 arbeidsdager\n",
    "1911 har 260 arbeidsdager\n",
    "1912 har 262 arbeidsdager\n",
    "1913 har 261 arbeidsdager\n",
    "1914 har 261 arbeidsdager\n",
    "1915 har 261 arbeidsdager\n",
    "1916 har 260 arbeidsdager\n",
    "1917 har 261 arbeidsdager\n",
    "1918 har 261 arbeidsdager\n",
    "1919 har 261 arbeidsdager"
   ]
  },
  {
   "cell_type": "code",
   "execution_count": null,
   "metadata": {},
   "outputs": [],
   "source": []
  },
  {
   "cell_type": "markdown",
   "metadata": {},
   "source": [
    "## Filoperasjoner"
   ]
  },
  {
   "cell_type": "markdown",
   "metadata": {},
   "source": [
    "I denne oppgaven skal vi lese inn en fil med opptaksgrensene fra Samordna Opptak.\n",
    "\n",
    "Filen er på CSV-format (Comma Separated Values), noe som betyr at hver linje er en liste med felter separert med komma. Tekstfelter er omsluttet av fnutter (\").\n",
    "\n",
    "    Første felt er studiets navn\n",
    "    Andre felt er poenggrensen (enten et tall, eller \"Alle\" dersom alle kom inn)\n",
    "\n",
    "F.eks. linjen: \"NTNU 194459 Antikkens kultur\",\"Alle\" sier at alle som søkte kom inn på Dragvoll-studiet “Antikkens kultur” ved NTNU.\n",
    "\n",
    "Hver funksjon i de følgende deloppgavene tar data fra filen poenggrenser_2011.csv som input. Derfor er det veldig praktisk å lagre innholdet i en variabel, slik at du slipper å lese den på nytt hver gang."
   ]
  },
  {
   "cell_type": "markdown",
   "metadata": {},
   "source": [
    "## a)"
   ]
  },
  {
   "cell_type": "markdown",
   "metadata": {},
   "source": [
    "Les fra fila poenggrenser_2011.csv og lagre innholdet i en variabel."
   ]
  },
  {
   "cell_type": "code",
   "execution_count": null,
   "metadata": {},
   "outputs": [],
   "source": []
  },
  {
   "cell_type": "markdown",
   "metadata": {},
   "source": [
    "## b)"
   ]
  },
  {
   "cell_type": "markdown",
   "metadata": {},
   "source": [
    "Skriv en funksjon som finner ut hvor mange studier som tok inn alle søkere.\n",
    "\n",
    "Husk at du nå i alle deloppgavene kan bruke variabelen du definerte i a så lenge du har kjørt den kodesnutten først!\n",
    "\n",
    "Eksempel på kjøring av kode:\n",
    "\n",
    "Antall studier hvor alle kom inn: 590"
   ]
  },
  {
   "cell_type": "code",
   "execution_count": null,
   "metadata": {},
   "outputs": [],
   "source": []
  },
  {
   "cell_type": "markdown",
   "metadata": {},
   "source": [
    "## c)"
   ]
  },
  {
   "cell_type": "markdown",
   "metadata": {},
   "source": [
    "Skriv en funksjon som finner gjennomsnittlig opptaksgrense for NTNU. Ikke ta med studier som tok inn alle søkere.\n",
    "\n",
    "Eksempel på kjøring av kode:\n",
    "\n",
    "Gjennomsnittlig opptaksgrense for NTNU var: 46.29"
   ]
  },
  {
   "cell_type": "markdown",
   "metadata": {},
   "source": [
    "Hint\n",
    "\n",
    "For å sjekke om studiet var på NTNU kan du hente ut de fire første bokstavene i hver linje. Hvis du har en string studie kan du gjøre dette ved å skrive: studie[1:5]"
   ]
  },
  {
   "cell_type": "code",
   "execution_count": null,
   "metadata": {},
   "outputs": [],
   "source": []
  }
 ],
 "metadata": {
  "kernelspec": {
   "display_name": "Python 3",
   "language": "python",
   "name": "python3"
  },
  "language_info": {
   "codemirror_mode": {
    "name": "ipython",
    "version": 3
   },
   "file_extension": ".py",
   "mimetype": "text/x-python",
   "name": "python",
   "nbconvert_exporter": "python",
   "pygments_lexer": "ipython3",
   "version": "3.7.4"
  }
 },
 "nbformat": 4,
 "nbformat_minor": 4
}
