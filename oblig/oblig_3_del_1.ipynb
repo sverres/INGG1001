{
 "cells": [
  {
   "cell_type": "markdown",
   "metadata": {},
   "source": [
    "# INGG1001 Obligatorisk oppgave 3, del 1, Python-programmering"
   ]
  },
  {
   "cell_type": "markdown",
   "metadata": {},
   "source": [
    "## Oppgave A\n",
    "\n",
    "Lag en Python-kode som \n",
    "- Ber brukeren skrive inn en setning.\n",
    "- Skriver ut setningen baklengs ord for ord (f.eks. slik: «slik blir denne setningen» blir «setningen denne blir slik»). \n",
    "\n",
    "Les Pythons dokumentasjon av strenger, og bruk split, join og vanlig listefunksjonalitet."
   ]
  },
  {
   "cell_type": "code",
   "execution_count": null,
   "metadata": {},
   "outputs": [],
   "source": []
  },
  {
   "cell_type": "markdown",
   "metadata": {},
   "source": [
    "## Oppgave B\n",
    "\n",
    "### Beregning av hastighet\n",
    "\n",
    "En bil kjører inn på en veistrekning med kjent lengde, og akselererer med konstant akselrasjon. \n",
    "\n",
    "Lag en Python-kode som \n",
    "- spør brukeren etter \n",
    "   - starthastighet $v_0$ (oppgis i $m/s$)\n",
    "   - strekningens lengde $x$ (oppgis i $m$)\n",
    "   - akselerasjon $a$ (oppgis i $m/s^2$)\n",
    "- beregner slutthastigheten\n",
    "- skriver ut slutthastigheten\n",
    "\n",
    "Formel for slutthastighet $v$ i $m/s$: \n",
    "\n",
    "$v={\\sqrt{v_0^2 + 2ax}}$\n",
    "\n",
    "---\n",
    "\n",
    "Se gjerne denne referansen for å finne realistiske maksimalverdier for slutthastighet:<br>\n",
    "Bryhn, Rolf & Hansen, Frode Næss. (2019, 2. august). dragracing. I Store norske leksikon, https://snl.no/dragracing"
   ]
  },
  {
   "cell_type": "code",
   "execution_count": null,
   "metadata": {},
   "outputs": [],
   "source": []
  },
  {
   "cell_type": "markdown",
   "metadata": {},
   "source": [
    "## Oppgave C\n",
    "\n",
    "### Beregning av klokkeslett\n",
    "\n",
    "\n",
    "Du ser på telefonen din og finner en alarm som skal ringe kl. 14:00. Nå ønsker du at denne alarmen skal ringe 535 timer seinere.\n",
    "Lag en Python-kode som finner ut hvor mange dager det er til denne alarmen går, og til hvilket klokkeslett den vil ringe.\n",
    "\n",
    "Hint: For å få en elegant løsning bør du se på heltallsdivisjon og modulo-operator. Det kan også være lurt å se i læreboka i kapittel 3.7."
   ]
  },
  {
   "cell_type": "code",
   "execution_count": null,
   "metadata": {},
   "outputs": [],
   "source": []
  },
  {
   "cell_type": "markdown",
   "metadata": {},
   "source": [
    "# Innlevering av besvarelse\n",
    "\n",
    "- Besvarelsen skal leveres som fil-innlevering i Blackboard. \n",
    "- Den skal leveres som et Jupyter Notebook-dokument. \n",
    "- Dette er en individuell oppgave.\n",
    "- Oppgaveteksten ligger også ute som Jupyter Notebook-dokument i oblig-mappen i [Jupyterlab](https://ingg1001.apps.stack.it.ntnu.no/hub/user-redirect/git-pull?repo=https%3A%2F%2Fgithub.com%2Fsverres%2FINGG1001&urlpath=lab%2Ftree%2FINGG1001%2Foblig&branch=master).\n",
    "\n",
    "## Innleveringsfrist for del 1 av programmerings-oblig\n",
    "\n",
    "- Innleveringsfrist er 2. november kl. 09:00\n",
    "\n",
    "## Godkjenning av besvarelse\n",
    "\n",
    "- Besvarelsen skal godkjennes av en av studassene (SA).\n",
    "- Hvis SA ikke kan godkjenne besvarelsen, skal ny versjon leveres i en endelig innlevering sammen med del 2 av programmerings-oblig. \n",
    "- Endelig godkjenning av både del 1 og del 2 skal foregå i et Zoom-møte med SA. Du må da vise at koden virker og kunne forklare hvordan koden er bygd opp og hva den gjør.\n",
    "\n",
    "\n",
    "---\n",
    "12.10.2020 Sverre Stikbakke"
   ]
  }
 ],
 "metadata": {
  "kernelspec": {
   "display_name": "Python 3",
   "language": "python",
   "name": "python3"
  },
  "language_info": {
   "codemirror_mode": {
    "name": "ipython",
    "version": 3
   },
   "file_extension": ".py",
   "mimetype": "text/x-python",
   "name": "python",
   "nbconvert_exporter": "python",
   "pygments_lexer": "ipython3",
   "version": "3.7.4"
  }
 },
 "nbformat": 4,
 "nbformat_minor": 4
}
