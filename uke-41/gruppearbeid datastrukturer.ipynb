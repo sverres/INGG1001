{
 "cells": [
  {
   "cell_type": "markdown",
   "metadata": {},
   "source": [
    "# Gruppearbeid 08.10\n",
    "\n",
    "Oppgavene skal løses i fellesskap ved at dere diskuterer spørsmålene og mulige løsninger. En av gruppemedlemmene må dele sin skjerm og skrive inn og kjøre programkode slik at alle ser det. Hvem som deler skjerm skal gå på omgang i gruppa.\n"
   ]
  },
  {
   "cell_type": "code",
   "execution_count": 8,
   "metadata": {},
   "outputs": [],
   "source": [
    "# I flere av oppgavene skal dere bruke denne lista. For å \"aktivere\" lista, det vil si gjøre den kjent for alle cellene\n",
    "# i dette Jupyterlab-dokumentet må du trykke på run-knappen mens du har markøren i denne cella.\n",
    "\n",
    "traveltime = [8.3, 3.2, 12.6, 159.6, 79.3, 43.2, 246.0, 6.0]\n"
   ]
  },
  {
   "cell_type": "raw",
   "metadata": {},
   "source": [
    "Oppgave 1: \n",
    "\n",
    "    - lag en ny liste ut fra traveltime-lista med verdiene sortert fra minst til størst\n",
    "    - tilordne lista til en variabel, og skriv ut lista ved hjelp av variabelnavnet\n",
    "    - hint: se under Python-ressurser på hovedsiden for Python-undervisningen (W3Schools - Python Reference - List methods)\n",
    "    - til slutt: skriv ut traveltime-lista. Hvordan ser den ut nå?"
   ]
  },
  {
   "cell_type": "raw",
   "metadata": {},
   "source": [
    "Oppgave 2:\n",
    "\n",
    "    - kan ei liste i Python inneholde en blanding av både tekst- og tall-verdier?\n",
    "    - vis dette med et eksempel\n"
   ]
  },
  {
   "cell_type": "raw",
   "metadata": {},
   "source": [
    "Oppgave 3:\n",
    "    \n",
    "    - lag et dictionary som inneholder navn på gruppemedlemmene som nøkkel, og måneden dere er født som verdi\n",
    "    - gi dictionariet et navn (tilordne det til en variabel)\n",
    "    - skriv ut hele dictionariet"
   ]
  },
  {
   "cell_type": "raw",
   "metadata": {},
   "source": [
    "Oppgave 4:\n",
    "    \n",
    "    - hva skjer hvis du prøver å hente ut et element fra ei liste, og bruker et negativt tall som indeks-verdi, f.eks: print(traveltime[-3]\n",
    "    - hva skjer hvis du prøver å hente ut et element fra ei liste, og bruker en indeksverdi som er større enn lengden av lista? f.eks. print(traveltime[8])\n",
    "    - går det an å skrive traveltime[2.0]?\n",
    "    - diskuter hva dere tror vil skje først, før dere prøver dette i praksis.\n",
    "    "
   ]
  },
  {
   "cell_type": "raw",
   "metadata": {},
   "source": [
    "Oppgave 5:\n",
    "    \n",
    "    - den minste verdien i traveltime-lista er for liten. Øk verdien med 5%.\n",
    "    - skriv ut lista med den endrede verdien"
   ]
  },
  {
   "cell_type": "raw",
   "metadata": {},
   "source": [
    "Oppgave 6:\n",
    "    \n",
    "    - lag kode som skriver ut de 6 midterste elementene i lista (ikke først og ikke siste element)."
   ]
  },
  {
   "cell_type": "raw",
   "metadata": {},
   "source": [
    "Oppgave 6:\n",
    "    \n",
    "    - hvordan kan man finne største eller minste verdier i ei liste?\n",
    "    - følg samme hint som i oppgave 1."
   ]
  }
 ],
 "metadata": {
  "kernelspec": {
   "display_name": "Python 3",
   "language": "python",
   "name": "python3"
  },
  "language_info": {
   "codemirror_mode": {
    "name": "ipython",
    "version": 3
   },
   "file_extension": ".py",
   "mimetype": "text/x-python",
   "name": "python",
   "nbconvert_exporter": "python",
   "pygments_lexer": "ipython3",
   "version": "3.8.3"
  }
 },
 "nbformat": 4,
 "nbformat_minor": 4
}
